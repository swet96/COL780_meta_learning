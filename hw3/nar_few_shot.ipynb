{
  "cells": [
    {
      "cell_type": "markdown",
      "id": "w9kv5Q_U3H-F",
      "metadata": {
        "id": "w9kv5Q_U3H-F"
      },
      "source": [
        "## Getting Kaggle NAR Dataset (You need to run it once for a single runtime)"
      ]
    },
    {
      "cell_type": "code",
      "execution_count": null,
      "id": "iivL_SSLohA9",
      "metadata": {
        "id": "iivL_SSLohA9"
      },
      "outputs": [],
      "source": [
        "!pip install -q --upgrade --force-reinstall --no-deps kaggle"
      ]
    },
    {
      "cell_type": "code",
      "execution_count": null,
      "id": "W1gmpI21om-f",
      "metadata": {
        "colab": {
          "base_uri": "https://localhost:8080/",
          "height": 60,
          "resources": {
            "http://localhost:8080/nbextensions/google.colab/files.js": {
              "data": "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",
              "headers": [
                [
                  "content-type",
                  "application/javascript"
                ]
              ],
              "ok": true,
              "status": 200,
              "status_text": ""
            }
          }
        },
        "id": "W1gmpI21om-f",
        "outputId": "541ecccd-3e39-475a-a7f0-a164c1806a02"
      },
      "outputs": [
        {
          "data": {
            "text/html": [
              "\n",
              "     <input type=\"file\" id=\"files-600b7848-cf34-4c56-ae6b-e19416528b39\" name=\"files[]\" multiple disabled\n",
              "        style=\"border:none\" />\n",
              "     <output id=\"result-600b7848-cf34-4c56-ae6b-e19416528b39\">\n",
              "      Upload widget is only available when the cell has been executed in the\n",
              "      current browser session. Please rerun this cell to enable.\n",
              "      </output>\n",
              "      <script src=\"/nbextensions/google.colab/files.js\"></script> "
            ],
            "text/plain": [
              "<IPython.core.display.HTML object>"
            ]
          },
          "metadata": {},
          "output_type": "display_data"
        },
        {
          "data": {
            "text/plain": [
              "{}"
            ]
          },
          "execution_count": 2,
          "metadata": {},
          "output_type": "execute_result"
        }
      ],
      "source": [
        "# from google.colab import files\n",
        "# files.upload()"
      ]
    },
    {
      "cell_type": "code",
      "execution_count": null,
      "id": "NadxX1y5onmE",
      "metadata": {
        "id": "NadxX1y5onmE"
      },
      "outputs": [],
      "source": [
        "!mkdir /root/.kaggle\n",
        "!mv ./kaggle.json /root/.kaggle/.\n",
        "!chmod 600 /root/.kaggle/kaggle.json"
      ]
    },
    {
      "cell_type": "code",
      "execution_count": null,
      "id": "ygUiLREisevj",
      "metadata": {
        "colab": {
          "base_uri": "https://localhost:8080/"
        },
        "id": "ygUiLREisevj",
        "outputId": "dc78c960-b40c-4224-fe89-bac5abf64941"
      },
      "outputs": [
        {
          "name": "stdout",
          "output_type": "stream",
          "text": [
            "ref                       title                     size  lastUpdated          downloadCount  voteCount  usabilityRating  \n",
            "------------------------  -----------------------  -----  -------------------  -------------  ---------  ---------------  \n",
            "gmshroff/market-data      Market Data               39MB  2022-02-07 11:11:00             22          1  0.125            \n",
            "gmshroff/market-data-cl   Market Data CL           404MB  2022-02-11 12:24:49              1          1  0.23529412       \n",
            "gmshroff/few-shot-nar     Few-shot version of NAR  370MB  2022-02-01 09:29:05             15          0  0.3125           \n",
            "gmshroff/few-shot-arc     Few-shot version of ARC  609KB  2022-02-14 11:03:57             27          0  0.25             \n",
            "gmshroff/options-dataset  Options Dataset          151MB  2022-02-07 17:01:18              3          0  0.0              \n"
          ]
        }
      ],
      "source": [
        "!kaggle datasets list --user gmshroff"
      ]
    },
    {
      "cell_type": "code",
      "execution_count": null,
      "id": "P5LrfKo3ovEf",
      "metadata": {
        "colab": {
          "base_uri": "https://localhost:8080/"
        },
        "id": "P5LrfKo3ovEf",
        "outputId": "41955622-b34b-401b-a4a5-7ccaa7694d9b"
      },
      "outputs": [
        {
          "name": "stdout",
          "output_type": "stream",
          "text": [
            "Downloading few-shot-nar.zip to /content\n",
            " 98% 362M/370M [00:04<00:00, 124MB/s]\n",
            "100% 370M/370M [00:04<00:00, 79.7MB/s]\n"
          ]
        }
      ],
      "source": [
        "!kaggle datasets download -d gmshroff/few-shot-nar"
      ]
    },
    {
      "cell_type": "code",
      "execution_count": null,
      "id": "lNpnhgMroyRV",
      "metadata": {
        "id": "lNpnhgMroyRV"
      },
      "outputs": [],
      "source": [
        "!unzip -q few-shot-nar.zip"
      ]
    },
    {
      "cell_type": "code",
      "execution_count": null,
      "id": "e_zb2LfoyBB8",
      "metadata": {
        "colab": {
          "base_uri": "https://localhost:8080/"
        },
        "id": "e_zb2LfoyBB8",
        "outputId": "9e1ed07f-d73d-4ab8-dc00-8d3de2060c9a"
      },
      "outputs": [
        {
          "name": "stdout",
          "output_type": "stream",
          "text": [
            "CNP.ipynb\t  models.ipynb\t\t\t\t problems_10k.json\n",
            "drive\t\t  nar_classification_dataset_images_10k  sample_data\n",
            "few-shot-nar.zip  nar_classification_dataset_images_2k\t utils.ipynb\n"
          ]
        }
      ],
      "source": [
        "!ls"
      ]
    },
    {
      "cell_type": "code",
      "execution_count": null,
      "id": "73b7c5f5-6919-4b63-bbc3-971eaccee0c0",
      "metadata": {
        "id": "73b7c5f5-6919-4b63-bbc3-971eaccee0c0"
      },
      "outputs": [],
      "source": [
        "from matplotlib import pyplot as plt\n",
        "import numpy as np"
      ]
    },
    {
      "cell_type": "markdown",
      "id": "cW30iPkvPQU2",
      "metadata": {
        "id": "cW30iPkvPQU2"
      },
      "source": [
        "## AnalogicalReasoningDataset"
      ]
    },
    {
      "cell_type": "code",
      "execution_count": null,
      "id": "bf7eaa57-1ab3-4a6c-aab2-4f1efa3a3387",
      "metadata": {
        "id": "bf7eaa57-1ab3-4a6c-aab2-4f1efa3a3387"
      },
      "outputs": [],
      "source": [
        "import json\n",
        "import pathlib\n",
        "from collections import namedtuple\n",
        "\n",
        "import torch\n",
        "from torchvision.io import read_image as tv_read_image\n",
        "from torchvision import transforms\n",
        "\n",
        "from PIL import Image\n",
        "\n",
        "# def read_image(path):\n",
        "#     return tv_read_image(str(path))\n",
        "def read_image(path):\n",
        "    return transforms.ToTensor()(Image.open(str(path)))\n",
        "\n",
        "Example = namedtuple('Example', ['input', 'options', 'solution'])\n",
        "Problem = namedtuple('Problem', ['examples', 'query', 'query_options', 'solution', 'program'])\n",
        "\n",
        "class AnalogicalReasoningDataset(torch.utils.data.Dataset):\n",
        "    \"\"\"Analogical Reasoning Classification Dataset\n",
        "\n",
        "    This dataset consists of analogical reasoning [1] classification problems.\n",
        "    Each problem is made up of 5 parts\n",
        "        1. Examples: a list of examples of a program where each example \n",
        "        is a tuple made of -\n",
        "            i. Input image\n",
        "            ii. Options for the output image among which one is the correct answer\n",
        "            iii. The index of the correct option \n",
        "        2. Query: the query image for which to predict the correct option\n",
        "        when the program (which should be inferred from the examples) is applied\n",
        "        3. Query Options: the options for the output when the program inferred\n",
        "        from the the examples is applied to the query\n",
        "        4. Solution: the index of the correct option \n",
        "        5. Program: the ground truth program that generated the query image\n",
        "    \n",
        "    Calling `__getitem__` on this dataset returns a tuple containing \n",
        "        1. The problem with symbolic descriptions of the images\n",
        "        2. The problem with images themselves\n",
        "    Each of the above is a namedtuple with the following fields:\n",
        "        1. `examples`: a list of examples of a program where each example\n",
        "        is a tuple made of `input`, `options`, and `solution`.\n",
        "        2. `query`\n",
        "        3. `query_options`\n",
        "        4. `solution`\n",
        "        5. `program`\n",
        "    Since this is a named tuple you can access these fields using their names.\n",
        "    For example `problem.examples[0].input`\n",
        "\n",
        "    This can be considered as a meta learning [2] task where each task consits \n",
        "    of training data (examples) and test data (query). You can split this dataset\n",
        "    into meta-training and meta-test subsets. The meta-training subset can be\n",
        "    used to train your model to be able to solve the query task given the examples.\n",
        "    The meta-test subset can be used to test your model's performance.\n",
        "\n",
        "    Args:\n",
        "        problems_file: path to a json file containing the problems\n",
        "        image_dir: path to the directory containing the images\n",
        "        size (int): size of the dataset (should be given in the name of image_dir)\n",
        "\n",
        "    References:\n",
        "        [1] https://arxiv.org/abs/2111.10361\n",
        "        [2] https://lilianweng.github.io/lil-log/2018/11/30/meta-learning.html#define-the-meta-learning-problem\n",
        "    \"\"\"\n",
        "    def __init__(self, problems_file, image_dir, size1,size2):\n",
        "        self.problems_file = problems_file\n",
        "        self.image_dir = pathlib.Path(image_dir)\n",
        "        self.size = size2-size1\n",
        "\n",
        "        with open(self.problems_file, \"r\") as f:\n",
        "            self.problems = json.load(f)[size1:size2]\n",
        "        \n",
        "    def __len__(self):\n",
        "        return len(self.problems)\n",
        "\n",
        "    def __getitem__(self, idx):\n",
        "        problem = self.problems[idx]\n",
        "\n",
        "        return Problem._make((\n",
        "            [Example._make(e) for e in problem[0]],\n",
        "            problem[1],\n",
        "            problem[2],\n",
        "            problem[3],\n",
        "            problem[4],\n",
        "        )), Problem._make((\n",
        "            [\n",
        "                Example._make((\n",
        "                    read_image(self.image_dir/f\"{idx}_{eidx}_input.png\"),\n",
        "                    [\n",
        "                        read_image(self.image_dir/f\"{idx}_{eidx}_{oidx}_option.png\")\n",
        "                        for oidx in range(len(problem[0][eidx][1]))\n",
        "                    ],\n",
        "                    problem[0][eidx][2]\n",
        "                ))\n",
        "                for eidx in range(len(problem[0]))\n",
        "            ],\n",
        "            read_image(self.image_dir/f\"{idx}_query.png\"),\n",
        "            [\n",
        "                read_image(self.image_dir/f\"{idx}_{oidx}_query_option.png\")\n",
        "                for oidx in range(len(problem[2]))\n",
        "            ],\n",
        "            problem[3],\n",
        "            problem[4]\n",
        "        ))\n"
      ]
    },
    {
      "cell_type": "markdown",
      "id": "irrNV6LSOy33",
      "metadata": {
        "id": "irrNV6LSOy33"
      },
      "source": [
        "## Extras"
      ]
    },
    {
      "cell_type": "code",
      "execution_count": null,
      "id": "01588fea-2f8f-4cc7-8af0-740c54fcbc2a",
      "metadata": {
        "id": "01588fea-2f8f-4cc7-8af0-740c54fcbc2a"
      },
      "outputs": [],
      "source": [
        "narDS=AnalogicalReasoningDataset(\"./problems_10k.json\",\"./nar_classification_dataset_images_10k/images_large\",0,100)"
      ]
    },
    {
      "cell_type": "code",
      "execution_count": null,
      "id": "00fa15a0-96bc-4ff1-9eb8-1b5c9c167066",
      "metadata": {
        "id": "00fa15a0-96bc-4ff1-9eb8-1b5c9c167066"
      },
      "outputs": [],
      "source": [
        "ex=narDS.__getitem__(1)"
      ]
    },
    {
      "cell_type": "code",
      "execution_count": null,
      "id": "3pWu9BvOJCxg",
      "metadata": {
        "colab": {
          "base_uri": "https://localhost:8080/"
        },
        "id": "3pWu9BvOJCxg",
        "outputId": "4c634159-e25b-4238-f229-2f795bb391c0"
      },
      "outputs": [
        {
          "data": {
            "text/plain": [
              "[2, 1, 1, 0, 0, 2]"
            ]
          },
          "execution_count": 84,
          "metadata": {},
          "output_type": "execute_result"
        }
      ],
      "source": [
        "[ex[1].examples[i].solution for i in range(len(ex[1].examples))]"
      ]
    },
    {
      "cell_type": "code",
      "execution_count": null,
      "id": "rPvM8G22CDgL",
      "metadata": {
        "colab": {
          "base_uri": "https://localhost:8080/"
        },
        "id": "rPvM8G22CDgL",
        "outputId": "679f1430-43f1-4fc9-b215-84274bfe8866"
      },
      "outputs": [
        {
          "data": {
            "text/plain": [
              "(3, 64, 64)"
            ]
          },
          "execution_count": 34,
          "metadata": {},
          "output_type": "execute_result"
        }
      ],
      "source": [
        "np.array(ex[1].query).shape"
      ]
    },
    {
      "cell_type": "code",
      "execution_count": null,
      "id": "iOrdYsHSUC0z",
      "metadata": {
        "id": "iOrdYsHSUC0z"
      },
      "outputs": [],
      "source": [
        "# plt.figure(figsize=(7,7))\n",
        "# for i in range(6):\n",
        "#   plt.subplot(6,1,i+1)\n",
        "#   plt.imshow(np.array(ex[1].examples[i].input[0,:,:]))\n",
        "#   plt.axis('off')"
      ]
    },
    {
      "cell_type": "code",
      "execution_count": null,
      "id": "CHAtHe4tXaWM",
      "metadata": {
        "id": "CHAtHe4tXaWM"
      },
      "outputs": [],
      "source": [
        "# plt.figure(figsize=(4,4))\n",
        "# j=5\n",
        "# for i in range(4):\n",
        "#   plt.subplot(1,4,i+1)\n",
        "#   plt.imshow(np.array(ex[1].examples[j].options[i][0,:,:]))\n",
        "#   plt.axis('off')\n",
        "# print(f\"Solution: {ex[1].examples[j].solution}\")"
      ]
    },
    {
      "cell_type": "markdown",
      "id": "d_wGeSoOtDmu",
      "metadata": {
        "id": "d_wGeSoOtDmu"
      },
      "source": [
        "So, each of the namedtuple ‘Problem’ is a task, and \n",
        "(Problem.examples.input, Problem.examples.solution)= (X_train,y_train)\n",
        "\n",
        "and\n",
        "(Problem.query, Problem.solution)=(X_test,y-test)\n"
      ]
    },
    {
      "cell_type": "code",
      "execution_count": null,
      "id": "-awb37uMR0fB",
      "metadata": {
        "colab": {
          "base_uri": "https://localhost:8080/"
        },
        "id": "-awb37uMR0fB",
        "outputId": "6ce25ca1-630f-45df-ed51-658f2b879bc1"
      },
      "outputs": [
        {
          "name": "stdout",
          "output_type": "stream",
          "text": [
            "No of meta-train train examples: (6, 3)\n",
            "No of meta-train test examples: (3, 64, 64)\n"
          ]
        },
        {
          "name": "stderr",
          "output_type": "stream",
          "text": [
            "/usr/local/lib/python3.7/dist-packages/ipykernel_launcher.py:2: FutureWarning: The input object of type 'Tensor' is an array-like implementing one of the corresponding protocols (`__array__`, `__array_interface__` or `__array_struct__`); but not a sequence (or 0-D). In the future, this object will be coerced as if it was first converted using `np.array(obj)`. To retain the old behaviour, you have to either modify the type 'Tensor', or assign to an empty array created with `np.empty(correct_shape, dtype=object)`.\n",
            "  \n",
            "/usr/local/lib/python3.7/dist-packages/ipykernel_launcher.py:2: VisibleDeprecationWarning: Creating an ndarray from ragged nested sequences (which is a list-or-tuple of lists-or-tuples-or ndarrays with different lengths or shapes) is deprecated. If you meant to do this, you must specify 'dtype=object' when creating the ndarray.\n",
            "  \n"
          ]
        }
      ],
      "source": [
        "#meta-train  train\n",
        "print(f\"No of meta-train train examples: {np.array(ex[1].examples).shape}\")\n",
        "\n",
        "#meta-train test  \n",
        "print(f\"No of meta-train test examples: {np.array(ex[1].query).shape}\")"
      ]
    },
    {
      "cell_type": "code",
      "execution_count": null,
      "id": "hzYQDgdDKTDx",
      "metadata": {
        "colab": {
          "base_uri": "https://localhost:8080/",
          "height": 178
        },
        "id": "hzYQDgdDKTDx",
        "outputId": "08380d00-048a-4d98-872a-a89716beff5b"
      },
      "outputs": [
        {
          "data": {
            "text/plain": [
              "<matplotlib.image.AxesImage at 0x7fa423a8fa90>"
            ]
          },
          "execution_count": 28,
          "metadata": {},
          "output_type": "execute_result"
        },
        {
          "data": {
            "image/png": "[encoded data removed]",
            "text/plain": [
              "<Figure size 144x144 with 1 Axes>"
            ]
          },
          "metadata": {
            "needs_background": "light"
          },
          "output_type": "display_data"
        }
      ],
      "source": [
        "# plt.imshow(np.array(ex[1].examples[1].input[0,:,:]))\n",
        "plt.figure(figsize=(2,2))\n",
        "plt.imshow(np.array(ex[1].query[0,:,:]))"
      ]
    },
    {
      "cell_type": "code",
      "execution_count": null,
      "id": "50d64c95-fc47-4cbc-be03-5cb93fd7d57f",
      "metadata": {
        "colab": {
          "base_uri": "https://localhost:8080/",
          "height": 97
        },
        "id": "50d64c95-fc47-4cbc-be03-5cb93fd7d57f",
        "outputId": "a6360c4e-deaf-4e1e-fc23-9f319f21cede"
      },
      "outputs": [
        {
          "name": "stdout",
          "output_type": "stream",
          "text": [
            "Solution: 2\n"
          ]
        },
        {
          "data": {
            "image/png": "[encoded data removed]",
            "text/plain": [
              "<Figure size 288x288 with 4 Axes>"
            ]
          },
          "metadata": {
            "needs_background": "light"
          },
          "output_type": "display_data"
        }
      ],
      "source": [
        "plt.figure(figsize=(4,4))\n",
        "\n",
        "for i in range(4):\n",
        "  plt.subplot(1,4,i+1)\n",
        "  plt.imshow(np.array(ex[1].query_options[i][0,:,:]))\n",
        "  plt.axis('off')\n",
        "print(f\"Solution: {ex[1].solution}\")\n",
        "\n",
        "# plt.imshow(np.array(ex[1].query[0,:,:]))"
      ]
    },
    {
      "cell_type": "code",
      "execution_count": null,
      "id": "45d98d74-97f2-459c-b427-7fd26517710b",
      "metadata": {
        "colab": {
          "base_uri": "https://localhost:8080/",
          "height": 82
        },
        "id": "45d98d74-97f2-459c-b427-7fd26517710b",
        "outputId": "05994167-5419-4deb-d899-8af56a6e5bab"
      },
      "outputs": [
        {
          "data": {
            "image/png": "[encoded data removed]",
            "text/plain": [
              "<PIL.Image.Image image mode=RGB size=64x64 at 0x7FF95BD26310>"
            ]
          },
          "execution_count": 28,
          "metadata": {},
          "output_type": "execute_result"
        }
      ],
      "source": [
        "transforms.ToPILImage()(ex[1].examples[2].options[ex[1].examples[2].solution])"
      ]
    },
    {
      "cell_type": "code",
      "execution_count": null,
      "id": "0b5fb303-2516-4316-b5d7-c4f87a494f97",
      "metadata": {
        "id": "0b5fb303-2516-4316-b5d7-c4f87a494f97"
      },
      "outputs": [],
      "source": [
        "transforms.ToPILImage()(ex[1].examples[2].input)"
      ]
    },
    {
      "cell_type": "code",
      "execution_count": null,
      "id": "38ce0615-4e3d-46e2-8d53-6bcb85783a1a",
      "metadata": {
        "id": "38ce0615-4e3d-46e2-8d53-6bcb85783a1a"
      },
      "outputs": [],
      "source": [
        "transforms.ToPILImage()(ex[1].examples[2].options[2])"
      ]
    },
    {
      "cell_type": "code",
      "execution_count": null,
      "id": "64ddabff-1f63-4f32-ae9f-29c238a6ce0d",
      "metadata": {
        "id": "64ddabff-1f63-4f32-ae9f-29c238a6ce0d"
      },
      "outputs": [],
      "source": [
        "ex[1].examples[2].input.shape"
      ]
    },
    {
      "cell_type": "code",
      "execution_count": null,
      "id": "5d3284b1-c8cb-41da-bdc5-c6159ab294cc",
      "metadata": {
        "id": "5d3284b1-c8cb-41da-bdc5-c6159ab294cc"
      },
      "outputs": [],
      "source": [
        "narDS.problems[0]"
      ]
    },
    {
      "cell_type": "markdown",
      "id": "tTleE3WY2aws",
      "metadata": {
        "id": "tTleE3WY2aws"
      },
      "source": [
        "\n",
        "## Global Imports"
      ]
    },
    {
      "cell_type": "code",
      "execution_count": null,
      "id": "1cXkUa5mPFI7",
      "metadata": {
        "id": "1cXkUa5mPFI7"
      },
      "outputs": [],
      "source": [
        "!pip install learn2learn --quiet"
      ]
    },
    {
      "cell_type": "code",
      "execution_count": null,
      "id": "9poVdaDx2d2r",
      "metadata": {
        "id": "9poVdaDx2d2r"
      },
      "outputs": [],
      "source": [
        "!pip install import_ipynb --quiet"
      ]
    },
    {
      "cell_type": "code",
      "execution_count": null,
      "id": "yfvh_cW32dkz",
      "metadata": {
        "id": "yfvh_cW32dkz"
      },
      "outputs": [],
      "source": [
        "import requests"
      ]
    },
    {
      "cell_type": "code",
      "execution_count": null,
      "id": "jHLv3hNC2dbi",
      "metadata": {
        "id": "jHLv3hNC2dbi"
      },
      "outputs": [],
      "source": [
        "r=requests.get(\"https://github.com/gmshroff/metaLearning2022/blob/main/code/utils.ipynb?raw=true\")\n",
        "with open('./utils.ipynb','wb') as f: f.write(r.content)"
      ]
    },
    {
      "cell_type": "code",
      "execution_count": null,
      "id": "sHdPJD0FSbbE",
      "metadata": {
        "colab": {
          "base_uri": "https://localhost:8080/"
        },
        "id": "sHdPJD0FSbbE",
        "outputId": "1e158e26-5a4f-45c2-da0f-721f3353c142"
      },
      "outputs": [
        {
          "name": "stdout",
          "output_type": "stream",
          "text": [
            "Drive already mounted at /content/drive; to attempt to forcibly remount, call drive.mount(\"/content/drive\", force_remount=True).\n"
          ]
        }
      ],
      "source": [
        "#Since we have to copy CNP and MAN and MAML for the experiments\n",
        "from google.colab import drive\n",
        "drive.mount('/content/drive')"
      ]
    },
    {
      "cell_type": "code",
      "execution_count": null,
      "id": "rafc0QzJSSQ6",
      "metadata": {
        "id": "rafc0QzJSSQ6"
      },
      "outputs": [],
      "source": [
        "!cp drive/MyDrive/'Colab Notebooks'/'Meta_Learning_hw2'/models.ipynb ."
      ]
    },
    {
      "cell_type": "code",
      "execution_count": null,
      "id": "_Yau80dJ3D0T",
      "metadata": {
        "colab": {
          "base_uri": "https://localhost:8080/"
        },
        "id": "_Yau80dJ3D0T",
        "outputId": "1f35834d-5315-4abe-f9d1-5151480c4dcc"
      },
      "outputs": [
        {
          "name": "stdout",
          "output_type": "stream",
          "text": [
            "importing Jupyter notebook from utils.ipynb\n",
            "importing Jupyter notebook from models.ipynb\n"
          ]
        }
      ],
      "source": [
        "# from IPython import display\n",
        "import torch\n",
        "import import_ipynb\n",
        "import utils\n",
        "import models\n",
        "from matplotlib import pyplot as plt\n",
        "from IPython import display\n",
        "import torch.nn as nn\n",
        "from time import time\n",
        "import torch.nn.functional as F"
      ]
    },
    {
      "cell_type": "code",
      "execution_count": null,
      "id": "6ntv5gKnXYkI",
      "metadata": {
        "id": "6ntv5gKnXYkI"
      },
      "outputs": [],
      "source": [
        "ways=2\n",
        "task_count=200\n",
        "\n",
        "meta_train_size1 = 0\n",
        "meta_train_size2 =task_count\n",
        "\n",
        "meta_test_size1 = task_count\n",
        "meta_test_size2 = 2*task_count"
      ]
    },
    {
      "cell_type": "code",
      "execution_count": null,
      "id": "h1wF33zlS6K8",
      "metadata": {
        "id": "h1wF33zlS6K8"
      },
      "outputs": [],
      "source": [
        "#Getting a single task     \n",
        "def get_task(ex):\n",
        "  X_train = torch.stack([(ex[1].examples[i].input - ex[1].examples[i].options[j]).flatten() for i in range(len(ex[1].examples)) for j in range(len(ex[1].examples[i].options))])\n",
        "  y_train = [F.one_hot(torch.tensor([ex[1].examples[i].solution]), num_classes=4) for i in range(len(ex[1].examples))]\n",
        "  y_train =torch.stack(y_train).flatten() \n",
        "\n",
        "  X_test = torch.stack([(ex[1].query-ex[1].query_options[i]).flatten() for i in range(len(ex[1].query_options))  ])\n",
        "  y_test = F.one_hot(torch.tensor(ex[1].solution), num_classes=len(ex[1].query_options))\n",
        "\n",
        "  d_train=(X_train, y_train)\n",
        "  d_test=(X_test, y_test)\n",
        "  return d_train, d_test\n",
        "\n",
        "\n",
        "# def get_task(ex):\n",
        "#   # num of train options and num of test options are same i.e., \n",
        "#   num_options = len(ex[1].query_options)\n",
        "#   num_examples = len(ex[1].examples)\n",
        "\n",
        "#   X_train = torch.stack([(ex[1].examples[i].input - ex[1].examples[i].options[j]).flatten(num_examples) for i in range(num_examples) for j in range(num_options)])\n",
        "#   y_train = [F.one_hot(torch.tensor([ex[1].examples[i].solution]), num_classes=num_options) for i in range(num_examples)]\n",
        "#   y_train =torch.stack(y_train).flatten() \n",
        "\n",
        "#   X_test = torch.stack([(ex[1].query-ex[1].query_options[i]).flatten() for i in range(num_options)])\n",
        "#   y_test = F.one_hot(torch.tensor(ex[1].solution), num_classes=num_options)\n",
        "\n",
        "#   d_train=(X_train, y_train)\n",
        "#   d_test=(X_test, y_test)\n",
        "#   return d_train, d_test\n",
        "\n",
        "# Redifning accuracy function so that it takes h - dataset context - as input since net requires it.\n",
        "def accuracy(Net,X_test,y_test,h,verbose=True):\n",
        "    #Net.eval()\n",
        "    m = X_test.shape[0]\n",
        "    y_pred = Net(X_test,h)\n",
        "    _, predicted = torch.max(y_pred, 1)\n",
        "    correct = (predicted == y_test).float().sum().item()\n",
        "    if verbose: print(correct,m)\n",
        "    accuracy = correct/m\n",
        "    #Net.train()\n",
        "    return accuracy\n"
      ]
    },
    {
      "cell_type": "markdown",
      "id": "RidIQBlovO_B",
      "metadata": {
        "id": "RidIQBlovO_B"
      },
      "source": [
        "## CNP "
      ]
    },
    {
      "cell_type": "code",
      "execution_count": null,
      "id": "uTNatM0xR_wD",
      "metadata": {
        "id": "uTNatM0xR_wD"
      },
      "outputs": [],
      "source": [
        "!cp drive/MyDrive/'Colab Notebooks'/'Meta_Learning_hw2'/CNP.ipynb ."
      ]
    },
    {
      "cell_type": "code",
      "execution_count": null,
      "id": "9_Kb_3ON0Oa1",
      "metadata": {
        "colab": {
          "base_uri": "https://localhost:8080/"
        },
        "id": "9_Kb_3ON0Oa1",
        "outputId": "7afaa096-57ff-41e8-ea28-70fc9597aa84"
      },
      "outputs": [
        {
          "name": "stdout",
          "output_type": "stream",
          "text": [
            "importing Jupyter notebook from CNP.ipynb\n"
          ]
        }
      ],
      "source": [
        "from CNP import CNP"
      ]
    },
    {
      "cell_type": "code",
      "execution_count": null,
      "id": "0gCnsOCGOevs",
      "metadata": {
        "id": "0gCnsOCGOevs"
      },
      "outputs": [],
      "source": [
        "# len(ex[1].examples[1].options)\n",
        "# d_train, d_test = get_task(ex)\n",
        "# p = [i-j for j in range(3) for i in range(6)]\n",
        "\n",
        "# y_train = [F.one_hot(torch.tensor([ex[1].examples[i].solution]), num_classes=4) for i in range(len(ex[1].examples))]\n",
        "# y_train =torch.stack(y_train).flatten() \n",
        "\n",
        "# print(a)\n",
        "# type(ex[1].examples[1].solution)\n",
        "# ex[1].examples[0].input - ex[1].examples[0].options[0]"
      ]
    },
    {
      "cell_type": "code",
      "execution_count": null,
      "id": "Rp1P9wgcvXyA",
      "metadata": {
        "id": "Rp1P9wgcvXyA"
      },
      "outputs": [],
      "source": [
        "net = CNP(n_features=3*64*64,dims=[32,64,32],n_classes=ways,lr=1e-4)\n",
        "lossfn = torch.nn.NLLLoss()"
      ]
    },
    {
      "cell_type": "code",
      "execution_count": null,
      "id": "KtVc16xqvXcV",
      "metadata": {
        "colab": {
          "base_uri": "https://localhost:8080/"
        },
        "id": "KtVc16xqvXcV",
        "outputId": "248ebc66-cfb6-4794-ae1c-7587ad188af8"
      },
      "outputs": [
        {
          "name": "stdout",
          "output_type": "stream",
          "text": [
            "Epoch   49 Loss: 5.93439e-01 Avg Acc: 0.87750\n"
          ]
        }
      ],
      "source": [
        "import numpy as np\n",
        "epoch=0\n",
        "n_epochs=50\n",
        "start_time=time()\n",
        "meta_train_narDS = AnalogicalReasoningDataset(\"./problems_10k.json\",\"./nar_classification_dataset_images_10k/images_large\", meta_train_size1, meta_train_size2)\n",
        "\n",
        "while epoch<n_epochs:\n",
        "    test_loss = 0.0\n",
        "    test_acc = 0.0\n",
        "    # Sample and train on a task\n",
        "    \n",
        "    for task in range(task_count):\n",
        "      '''\n",
        "      d_train= (X_train, X_test)\n",
        "      d_train[0] = X_train and d_train[0][0] is a tensor\n",
        "      d_train[1] and d_train[1][0] is a tensor.\n",
        "      \n",
        "      d_train,d_test=meta_train_kloader.get_task()\n",
        "      '''\n",
        "\n",
        "      meta_train_NAR = meta_train_narDS.__getitem__(task)\n",
        "      d_train,d_test=get_task(meta_train_NAR)\n",
        "      \n",
        "      rp = torch.randperm(d_train[1].shape[0])\n",
        "      d_train0=d_train[0][rp]\n",
        "      d_train1=d_train[1][rp]\n",
        "      x_tr = d_train0\n",
        "      d_tr = x_tr \n",
        "      h= net.adapt(d_tr,d_train1)\n",
        "\n",
        "      rp1 = torch.randperm(d_test[1].shape[0])\n",
        "      d_test0=d_test[0][rp1]\n",
        "      d_test1=d_test[1][rp1]\n",
        "      x_ts = d_test0\n",
        "      y_ts_sh = torch.zeros(x_ts.shape[0],ways)\n",
        "      d_ts = x_ts \n",
        "\n",
        "      test_preds = net(d_ts,h)\n",
        "      \n",
        "      # Accumulate losses over tasks - note train and test loss both included\n",
        "      test_loss += lossfn(test_preds,d_test1)#+lossfn(train_preds,d_train1)\n",
        "      net.eval()\n",
        "      test_acc += accuracy(net,d_ts,d_test1,h,verbose=False)\n",
        "      net.train()\n",
        "      \n",
        "    #Update the network weights\n",
        "    print('Epoch  % 2d Loss: %2.5e Avg Acc: %2.5f'%(epoch,test_loss/task_count,test_acc/task_count))\n",
        "    display.clear_output(wait=True)\n",
        "    net.optimizer.zero_grad()\n",
        "    test_loss.backward()\n",
        "    net.optimizer.step()\n",
        "    epoch+=1\n",
        "time_taken=time()-start_time "
      ]
    },
    {
      "cell_type": "code",
      "execution_count": null,
      "id": "m11DGwTMz8rs",
      "metadata": {
        "colab": {
          "base_uri": "https://localhost:8080/"
        },
        "id": "m11DGwTMz8rs",
        "outputId": "0b358c6a-c107-4ea0-d67a-8e99174f9a29"
      },
      "outputs": [
        {
          "name": "stdout",
          "output_type": "stream",
          "text": [
            "Time taken for 50 is:  186.371\n"
          ]
        }
      ],
      "source": [
        "print(f\"Time taken for {n_epochs} is: \", np.round(time_taken,3))"
      ]
    },
    {
      "cell_type": "code",
      "execution_count": null,
      "id": "5WFxCcZIz8i1",
      "metadata": {
        "colab": {
          "base_uri": "https://localhost:8080/"
        },
        "id": "5WFxCcZIz8i1",
        "outputId": "0010eee6-d99d-49e8-ee30-f6e43d8cde29"
      },
      "outputs": [
        {
          "name": "stdout",
          "output_type": "stream",
          "text": [
            "Avg Acc: 0.63875\n"
          ]
        }
      ],
      "source": [
        "test_acc = 0.0\n",
        "adapt_steps = 1\n",
        "#set the size1 and size2 according to the indices for meta_train_narDS whether you want overlapping or non-overlapping\n",
        "meta_test_narDS = AnalogicalReasoningDataset(\"./problems_10k.json\",\"./nar_classification_dataset_images_10k/images_large\", meta_test_size1, meta_test_size2)\n",
        "\n",
        "# Sample and train on a task\n",
        "for task in range(task_count):\n",
        "    # d_train,d_test=meta_test_kloader.get_task()\n",
        "\n",
        "    meta_test_NAR = meta_test_narDS.__getitem__(task)\n",
        "    d_train, d_test = get_task(meta_test_NAR)\n",
        "    x_tr = d_train[0]\n",
        "    y_tr_sh = torch.cat((torch.zeros(1,ways),torch.eye(ways)[d_train[1][1:]]))\n",
        "    d_tr = x_tr #torch.cat((x_tr,y_tr_sh),1)\n",
        "    h=net.adapt(d_tr,d_train[1])\n",
        "    x_ts = d_test[0]\n",
        "    y_ts_sh = torch.zeros(x_ts.shape[0],ways)\n",
        "    d_ts = x_ts #torch.cat((x_ts,y_ts_sh),1)\n",
        "    test_preds = net(d_ts,h)\n",
        "    test_acc += accuracy(net,d_ts,d_test[1],h,verbose=False)\n",
        "    # Done with a task\n",
        "net.train()\n",
        "print('Avg Acc: %2.5f'%(test_acc/task_count))"
      ]
    },
    {
      "cell_type": "markdown",
      "id": "SzhYciP7Z08S",
      "metadata": {
        "id": "SzhYciP7Z08S"
      },
      "source": [
        "## MAN"
      ]
    },
    {
      "cell_type": "code",
      "execution_count": null,
      "id": "S2v4vvmZz8Z0",
      "metadata": {
        "id": "S2v4vvmZz8Z0"
      },
      "outputs": [],
      "source": [
        "!cp drive/MyDrive/'Colab Notebooks'/'Meta_Learning_hw2'/MAN.ipynb .\n"
      ]
    },
    {
      "cell_type": "code",
      "execution_count": 4,
      "id": "ppEDkIBvz8Lu",
      "metadata": {
        "colab": {
          "base_uri": "https://localhost:8080/"
        },
        "id": "ppEDkIBvz8Lu",
        "outputId": "a6d424d4-3bcf-45ab-fb20-0ac322144ae6"
      },
      "outputs": [
        {
          "ename": "ImportError",
          "evalue": "cannot import name 'MAN' from 'Meta_Learning_hw2.MAN' (/Users/sweta/Desktop/xxxxxxxx/IIT_delhi/SEMESTER_2/Meta_Learning/assignment3/Assignment3_Meta_Learning_AIZ218356/Meta_Learning_hw2/MAN.ipynb)",
          "output_type": "error",
          "traceback": [
            "\u001b[0;31m---------------------------------------------------------------------------\u001b[0m",
            "\u001b[0;31mImportError\u001b[0m                               Traceback (most recent call last)",
            "\u001b[0;32m<ipython-input-4-b4efaa5b96f3>\u001b[0m in \u001b[0;36m<module>\u001b[0;34m\u001b[0m\n\u001b[1;32m      1\u001b[0m \u001b[0;32mimport\u001b[0m \u001b[0mimport_ipynb\u001b[0m\u001b[0;34m\u001b[0m\u001b[0;34m\u001b[0m\u001b[0m\n\u001b[0;32m----> 2\u001b[0;31m \u001b[0;32mfrom\u001b[0m \u001b[0mMeta_Learning_hw2\u001b[0m\u001b[0;34m.\u001b[0m\u001b[0mMAN\u001b[0m \u001b[0;32mimport\u001b[0m \u001b[0mMAN\u001b[0m\u001b[0;34m\u001b[0m\u001b[0;34m\u001b[0m\u001b[0m\n\u001b[0m",
            "\u001b[0;31mImportError\u001b[0m: cannot import name 'MAN' from 'Meta_Learning_hw2.MAN' (/Users/sweta/Desktop/xxxxxxxx/IIT_delhi/SEMESTER_2/Meta_Learning/assignment3/Assignment3_Meta_Learning_AIZ218356/Meta_Learning_hw2/MAN.ipynb)"
          ]
        }
      ],
      "source": [
        "import import_ipynb\n",
        "# from Meta_Learning_hw2.MAN import MAN \n"
      ]
    },
    {
      "cell_type": "code",
      "execution_count": null,
      "id": "mGgmyW2mcFB_",
      "metadata": {
        "id": "mGgmyW2mcFB_"
      },
      "outputs": [],
      "source": [
        "net = MAN(dims=[3*64*64,64,32],n_classes=ways,lr=1e-4)\n",
        "lossfn = torch.nn.NLLLoss()"
      ]
    },
    {
      "cell_type": "code",
      "execution_count": null,
      "id": "PLLV_W64cEwl",
      "metadata": {
        "colab": {
          "base_uri": "https://localhost:8080/"
        },
        "id": "PLLV_W64cEwl",
        "outputId": "bc51f7c4-447d-4ff7-913a-0e6a246fdd4c"
      },
      "outputs": [
        {
          "name": "stdout",
          "output_type": "stream",
          "text": [
            "Epoch  49 Loss: -7.75804e-01 Avg Acc: 0.88625\n"
          ]
        }
      ],
      "source": [
        "from time import time\n",
        "import numpy as np\n",
        "epoch=0\n",
        "n_epochs=50\n",
        "start_time=time()\n",
        "meta_train_narDS = AnalogicalReasoningDataset(\"./problems_10k.json\",\"./nar_classification_dataset_images_10k/images_large\", meta_train_size1, meta_train_size2)\n",
        "\n",
        "while epoch<n_epochs:\n",
        "    test_loss = 0.0\n",
        "    test_acc = 0.0\n",
        "    # Sample and train on a task\n",
        "    for task in range(task_count):\n",
        "        meta_train_NAR = meta_train_narDS.__getitem__(task)\n",
        "        d_train, d_test = get_task(meta_train_NAR)\n",
        "        rp = torch.randperm(d_train[1].shape[0]) # 0 to 24 randomly permuted d_train[1].shape=25\n",
        "        d_train0=d_train[0][rp]\n",
        "        d_train1=d_train[1][rp]\n",
        "        x_tr = d_train0\n",
        "        d_tr = x_tr \n",
        "        rp1 = torch.randperm(d_test[1].shape[0]) # 0 to 24 randomly permuted d_train[1].shape=25\n",
        "        d_test0=d_test[0][rp1]\n",
        "        d_test1=d_test[1][rp1]\n",
        "        x_ts = d_test0\n",
        "        d_ts = x_ts \n",
        "        test_preds = net(d_ts,(x_tr,d_train1))\n",
        "        #train_preds = net(d_tr,h)\n",
        "        # Accumulate losses over tasks - note train and test loss both included\n",
        "        test_loss += lossfn(test_preds,d_test1)\n",
        "        net.eval() #to activate the evaluation mode\n",
        "        test_acc += accuracy(net,d_ts,d_test1,(x_tr,d_train1),verbose=False)\n",
        "        net.train() #to activate the train mode\n",
        "    \n",
        "    #Update the network weights\n",
        "    print('Epoch % 2d Loss: %2.5e Avg Acc: %2.5f'%(epoch,test_loss/task_count,test_acc/task_count))\n",
        "    display.clear_output(wait=True)\n",
        "    net.optimizer.zero_grad()\n",
        "    test_loss.backward()\n",
        "    net.optimizer.step()\n",
        "    epoch+=1\n",
        "\n",
        "time_taken=time()-start_time "
      ]
    },
    {
      "cell_type": "code",
      "execution_count": null,
      "id": "hSz0751rcEX-",
      "metadata": {
        "colab": {
          "base_uri": "https://localhost:8080/"
        },
        "id": "hSz0751rcEX-",
        "outputId": "6058b9c7-a6a6-47d7-f11a-5c230fc150b7"
      },
      "outputs": [
        {
          "name": "stdout",
          "output_type": "stream",
          "text": [
            "Time taken for 50 is:  224.867\n"
          ]
        }
      ],
      "source": [
        "print(f\"Time taken for {n_epochs} is: \", np.round(time_taken,3))"
      ]
    },
    {
      "cell_type": "code",
      "execution_count": null,
      "id": "MoeIKHKDd8Tf",
      "metadata": {
        "colab": {
          "base_uri": "https://localhost:8080/"
        },
        "id": "MoeIKHKDd8Tf",
        "outputId": "f1df6eeb-d09f-4c0f-bef7-d281a27b2f22"
      },
      "outputs": [
        {
          "name": "stdout",
          "output_type": "stream",
          "text": [
            "Avg Acc: 0.75000\n"
          ]
        }
      ],
      "source": [
        "test_acc = 0.0\n",
        "adapt_steps = 1\n",
        "meta_test_narDS = AnalogicalReasoningDataset(\"./problems_10k.json\",\"./nar_classification_dataset_images_10k/images_large\", meta_test_size1, meta_test_size2)\n",
        "\n",
        "\n",
        "# Sample and train on a task\n",
        "for task in range(task_count):\n",
        "    meta_test_NAR = meta_test_narDS.__getitem__(task)\n",
        "    d_train, d_test = get_task(meta_test_NAR)\n",
        "    \n",
        "    x_tr = d_train[0]\n",
        "    y_tr_sh = torch.cat((torch.zeros(1,ways),torch.eye(ways)[d_train[1][1:]]))\n",
        "    d_tr = x_tr #torch.cat((x_tr,y_tr_sh),1)\n",
        "    x_ts = d_test[0]\n",
        "    y_ts_sh = torch.zeros(x_ts.shape[0],ways)\n",
        "    d_ts = x_ts #torch.cat((x_ts,y_ts_sh),1)\n",
        "    test_preds = net(d_ts,(d_tr,d_train[1]))\n",
        "    net.eval()\n",
        "    test_acc += accuracy(net,d_ts,d_test[1],(d_tr,d_train[1]),verbose=False)\n",
        "    # Done with a task\n",
        "    net.train()\n",
        "print('Avg Acc: %2.5f'%(test_acc/task_count))"
      ]
    },
    {
      "cell_type": "markdown",
      "id": "Pt3o04LqKIvt",
      "metadata": {
        "id": "Pt3o04LqKIvt"
      },
      "source": [
        "## MAML\n"
      ]
    },
    {
      "cell_type": "code",
      "execution_count": null,
      "id": "QsGbzrGYKOCd",
      "metadata": {
        "id": "QsGbzrGYKOCd"
      },
      "outputs": [],
      "source": [
        "import learn2learn as l2l\n",
        "import torch.optim as optim\n",
        "import models\n",
        "\n",
        "net = models.MLP(dims=[3*64*64,32,32,ways])\n",
        "maml = l2l.algorithms.MAML(net, lr=5e-3)\n",
        "optimizer = optim.Adam(maml.parameters(),lr=5e-4)\n",
        "lossfn = torch.nn.NLLLoss()\n"
      ]
    },
    {
      "cell_type": "code",
      "execution_count": null,
      "id": "EzIB4A06KN8A",
      "metadata": {
        "colab": {
          "base_uri": "https://localhost:8080/"
        },
        "id": "EzIB4A06KN8A",
        "outputId": "5bf47091-4388-451f-d276-80a071e3553e"
      },
      "outputs": [
        {
          "name": "stdout",
          "output_type": "stream",
          "text": [
            "Epoch   29 Loss: 3.34068e-01 Avg Acc: 0.89625\n"
          ]
        }
      ],
      "source": [
        "import numpy as np\n",
        "from time import time\n",
        "# Number of epochs, tasks per step and number of fast_adaptation steps \n",
        "epoch=0\n",
        "n_epochs=30\n",
        "fas = 5\n",
        "meta_train_narDS = AnalogicalReasoningDataset(\"./problems_10k.json\",\"./nar_classification_dataset_images_10k/images_large\",meta_train_size1,meta_train_size2)\n",
        "\n",
        "start_time=time()\n",
        "\n",
        "while epoch<n_epochs:\n",
        "    adapt_loss = 0.0\n",
        "    test_acc = 0.0\n",
        "    # Sample and train on a task\n",
        "    for task in range(task_count):\n",
        "        meta_train_NAR = meta_train_narDS.__getitem__(task)\n",
        "        d_train, d_test = get_task(meta_train_NAR)\n",
        "        learner = maml.clone()\n",
        "        for fas_step in range(fas):\n",
        "            train_preds = learner(d_train[0])\n",
        "            train_loss = lossfn(train_preds,d_train[1])\n",
        "            learner.adapt(train_loss)\n",
        "        test_preds = learner(d_test[0])\n",
        "        adapt_loss += lossfn(test_preds,d_test[1])\n",
        "        learner.eval()\n",
        "        test_acc += models.accuracy(learner,d_test[0],d_test[1],verbose=False)\n",
        "        learner.train()\n",
        "        # Done with a task\n",
        "    # Update main network\n",
        "    print('Epoch  % 2d Loss: %2.5e Avg Acc: %2.5f'%(epoch,adapt_loss/task_count,test_acc/task_count))\n",
        "    display.clear_output(wait=True)\n",
        "    optimizer.zero_grad()\n",
        "    total_loss = adapt_loss\n",
        "    total_loss.backward()\n",
        "    optimizer.step()\n",
        "    epoch+=1\n",
        "time_taken=time()-start_time \n"
      ]
    },
    {
      "cell_type": "code",
      "execution_count": null,
      "id": "qkyLLkgzKNv0",
      "metadata": {
        "colab": {
          "base_uri": "https://localhost:8080/"
        },
        "id": "qkyLLkgzKNv0",
        "outputId": "50193185-177d-4773-9ab8-6d99ea90e060"
      },
      "outputs": [
        {
          "name": "stdout",
          "output_type": "stream",
          "text": [
            "Time taken for 30 is:  236.25\n"
          ]
        }
      ],
      "source": [
        "print(f\"Time taken for {n_epochs} is: \", np.round(time_taken,3))"
      ]
    },
    {
      "cell_type": "code",
      "execution_count": null,
      "id": "iDBhkCctKKV0",
      "metadata": {
        "colab": {
          "base_uri": "https://localhost:8080/"
        },
        "id": "iDBhkCctKKV0",
        "outputId": "cbd8ebb2-4734-41a3-d680-835434a6b20d"
      },
      "outputs": [
        {
          "name": "stdout",
          "output_type": "stream",
          "text": [
            "Avg Acc: 0.65000\n"
          ]
        }
      ],
      "source": [
        "test_acc = 0.0\n",
        "adapt_steps = 5\n",
        "meta_test_narDS = AnalogicalReasoningDataset(\"./problems_10k.json\",\"./nar_classification_dataset_images_10k/images_large\",meta_test_size1, meta_test_size2)\n",
        "\n",
        "maml.eval()\n",
        "# Sample and train on a task\n",
        "for task in range(task_count):\n",
        "    meta_test_NAR = meta_test_narDS.__getitem__(task)\n",
        "    d_train, d_test = get_task(meta_test_NAR)\n",
        "    learner = maml.clone()\n",
        "    learner.eval()\n",
        "    for adapt_step in range(adapt_steps):\n",
        "        train_preds = learner(d_train[0])\n",
        "        train_loss = lossfn(train_preds,d_train[1])\n",
        "        learner.adapt(train_loss)\n",
        "    test_preds = learner(d_test[0])\n",
        "    test_acc += models.accuracy(learner,d_test[0],d_test[1],verbose=False)\n",
        "    # Done with a task\n",
        "#learner.train()\n",
        "print('Avg Acc: %2.5f'%(test_acc/task_count))"
      ]
    },
    {
      "cell_type": "markdown",
      "id": "M8eSydJD5D1-",
      "metadata": {
        "id": "M8eSydJD5D1-"
      },
      "source": [
        "## Plotting Graphs"
      ]
    },
    {
      "cell_type": "code",
      "execution_count": null,
      "id": "kNlIxazT5Gc2",
      "metadata": {
        "colab": {
          "base_uri": "https://localhost:8080/",
          "height": 333
        },
        "id": "kNlIxazT5Gc2",
        "outputId": "500d6c17-ed1c-458d-d87d-534508b5568f"
      },
      "outputs": [
        {
          "data": {
            "text/plain": [
              "Text(0.5, 1.0, 'CNP Model(num epochs=50)')"
            ]
          },
          "execution_count": 39,
          "metadata": {},
          "output_type": "execute_result"
        },
        {
          "data": {
            "image/png": "[encoded data removed]",
            "text/plain": [
              "<Figure size 432x288 with 1 Axes>"
            ]
          },
          "metadata": {
            "needs_background": "light"
          },
          "output_type": "display_data"
        }
      ],
      "source": [
        "# import numpy as np\n",
        "# import matplotlib.pyplot as plt\n",
        "# #Plot\n",
        "# x=[50,100, 200, 300]\n",
        "# y1=[0.76, 0.91, 0.87, 0.85]\n",
        "# y2=[0.51, 0.66750, 0.65125, 0.64]\n",
        "# # plt.xlim([45,305])\n",
        "# plt.plot(x,y1)\n",
        "# plt.plot(x,y2)\n",
        "# plt.legend(['meta-train test accuracy','meta-test test accuracy'] , loc =\"center right\")\n",
        "# plt.xlabel(\"Number of tasks\")\n",
        "# plt.ylabel(\"Accuracy\")\n",
        "# plt.title(\"CNP Model(num epochs=50)\")"
      ]
    },
    {
      "cell_type": "code",
      "execution_count": null,
      "id": "O725Y4Av5GMx",
      "metadata": {
        "colab": {
          "base_uri": "https://localhost:8080/",
          "height": 333
        },
        "id": "O725Y4Av5GMx",
        "outputId": "a3148bba-9a4e-4bc7-82f0-7224de97899a"
      },
      "outputs": [
        {
          "data": {
            "text/plain": [
              "Text(0.5, 1.0, 'MAN Model(num_epochs=50)')"
            ]
          },
          "execution_count": 38,
          "metadata": {},
          "output_type": "execute_result"
        },
        {
          "data": {
            "image/png": "[encoded data removed]",
            "text/plain": [
              "<Figure size 432x288 with 1 Axes>"
            ]
          },
          "metadata": {
            "needs_background": "light"
          },
          "output_type": "display_data"
        }
      ],
      "source": [
        "# x=[50,100, 200, 300]\n",
        "# y1=[0.92, 0.9, 0.87875, 0.863]\n",
        "# y2=[0.75, 0.745, 0.743,0.737]\n",
        "# plt.plot(x,y1)\n",
        "# plt.plot(x,y2)\n",
        "# plt.legend(['meta-train test accuracy','meta-test test accuracy'] , loc =\"center right\")\n",
        "# plt.xlabel(\"Number of tasks\")\n",
        "# plt.ylabel(\"Accuracy\")\n",
        "# plt.title(\"MAN Model(num_epochs=50)\")"
      ]
    },
    {
      "cell_type": "code",
      "execution_count": null,
      "id": "D1fJvLI85Fl4",
      "metadata": {
        "colab": {
          "base_uri": "https://localhost:8080/",
          "height": 333
        },
        "id": "D1fJvLI85Fl4",
        "outputId": "3f35987f-15c1-44d3-90c1-8425d39e0b1e"
      },
      "outputs": [
        {
          "data": {
            "text/plain": [
              "Text(0.5, 1.0, 'MAML Model (num_epochs=30)')"
            ]
          },
          "execution_count": 37,
          "metadata": {},
          "output_type": "execute_result"
        },
        {
          "data": {
            "image/png": "[encoded data removed]",
            "text/plain": [
              "<Figure size 432x288 with 1 Axes>"
            ]
          },
          "metadata": {
            "needs_background": "light"
          },
          "output_type": "display_data"
        }
      ],
      "source": [
        "# x=[50,100, 200, 300]\n",
        "# y1=[0.945, 0.91, 0.9, 0.9]\n",
        "# y2=[0.645, 0.65250, 0.64, 0.63]\n",
        "\n",
        "# plt.plot(x,y1)\n",
        "# plt.plot(x,y2)\n",
        "# plt.legend(['meta-train test accuracy','meta-test test accuracy'] , loc =\"center right\")\n",
        "# plt.xlabel(\"Number of tasks\")\n",
        "# plt.ylabel(\"Accuracy\")\n",
        "# plt.title(\"MAML Model (num_epochs=30)\")"
      ]
    },
    {
      "cell_type": "code",
      "execution_count": null,
      "id": "1DzcbKb3ABLw",
      "metadata": {
        "colab": {
          "base_uri": "https://localhost:8080/",
          "height": 333
        },
        "id": "1DzcbKb3ABLw",
        "outputId": "108e2cc8-76aa-4a4a-897e-3a51c160ae96"
      },
      "outputs": [
        {
          "data": {
            "text/plain": [
              "Text(0.5, 1.0, 'Comparison of accuracy across Models (num_epochs=(50,50,30))')"
            ]
          },
          "execution_count": 41,
          "metadata": {},
          "output_type": "execute_result"
        },
        {
          "data": {
            "image/png": "[encoded data removed]",
            "text/plain": [
              "<Figure size 432x288 with 1 Axes>"
            ]
          },
          "metadata": {
            "needs_background": "light"
          },
          "output_type": "display_data"
        }
      ],
      "source": [
        "# x=[\"CNP\",\"MAN\",\"MAML\"]\n",
        "# y1=[0.85, 0.863, 0.9]\n",
        "# y2=[0.64, 0.737, 0.63]\n",
        "\n",
        "# plt.plot(x,y1)\n",
        "# plt.plot(x,y2)\n",
        "# plt.legend(['meta train test accuracy','meta test accuracy'] , loc =\"center right\")\n",
        "# plt.xlabel(\"Model Name\")\n",
        "# plt.ylabel(\"Accuracy\")\n",
        "# plt.title(\"Comparison of accuracy across Models (num_epochs=(50,50,30))\")"
      ]
    }
  ],
  "metadata": {
    "colab": {
      "name": "Copy of nar_few_shot.ipynb",
      "provenance": []
    },
    "kernelspec": {
      "display_name": "Python 3 (ipykernel)",
      "language": "python",
      "name": "python3"
    },
    "language_info": {
      "codemirror_mode": {
        "name": "ipython",
        "version": 3
      },
      "file_extension": ".py",
      "mimetype": "text/x-python",
      "name": "python",
      "nbconvert_exporter": "python",
      "pygments_lexer": "ipython3",
      "version": "3.8.8"
    }
  },
  "nbformat": 4,
  "nbformat_minor": 5
}
